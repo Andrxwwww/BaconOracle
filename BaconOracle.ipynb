{
 "cells": [
  {
   "cell_type": "markdown",
   "id": "a64b68be1c7d89fb",
   "metadata": {
    "collapsed": false
   },
   "source": [
    "# ISCTE-IUL - 23/24 - Licenciatura em Engenharia Informática - Desenho e Análise de Algoritmos\n",
    "## Minitrabalho 2 - O Oráculo de Bacon\n",
    " Realizado por:\n",
    "   - André Simões Soares nº110993\n",
    "   - Carlos Eduardo Delgado Monteiro nº111284"
   ]
  },
  {
   "cell_type": "markdown",
   "id": "f58a88da5798df36",
   "metadata": {
    "collapsed": false
   },
   "source": [
    "## 1. Representação dos Dados"
   ]
  },
  {
   "cell_type": "markdown",
   "id": "fb545dce58c96e00",
   "metadata": {
    "collapsed": false
   },
   "source": [
    "### 1.a. Características do Grafo\n",
    "\n",
    "__Vértices:__ vai representar cada ator/atriz de Hollywood.\n",
    "<br> __Arestas:__ vai representar a ligação entre atores/atrizes com filmes onde ambos atuaram.\n",
    "\n",
    "__Modelo do Grafo:__ o grafo que vai ser implementado será o não-orientado , porquê a relação entre dois atores é bidirecional \n",
    "(o ator X atuou com o ator Y num filme , então o ator Y atuou com o ator X no mesmo filme) e também escolhemos este grafo devido a estes critérios:\n",
    "\n",
    "_Vantagens:_ \n",
    "- simplifica a estrutura do grafo (facilitação das operações do jogo & conectar atores diretamente através de filmes que aturam juntos) \n",
    "- ocupa menos espaço na memória (menos informações nas arestas)\n",
    "- facilidade de encontrar atores que atuaram em comum\n",
    "        \n",
    "_Desvantagens:_ \n",
    "- falta de eficiência de tempo para encontrar o menor caminho entre dois atores em termos de número de filmes\n",
    "\n",
    "__Alterações na classe _Graph_ , _Vertex_ & _Edge_ :__ \n",
    "- Na classe Vertex , alteramos o nome do parâmetro no construtor vertex_id para actor_name \n",
    "- Na classe Edge alteramos o peso para o movie_name , onde será o filme onde ambos os atores atuaram\n",
    "- Na classe Graph implementámos o método _Edge()_ que devolve um iterável sobre todas as arestas do Grafo.\n",
    "\n"
   ]
  },
  {
   "cell_type": "markdown",
   "id": "ea258f1e963a7baf",
   "metadata": {
    "collapsed": false
   },
   "source": [
    "### Implementação da classe Node , Edge & Graph"
   ]
  },
  {
   "cell_type": "code",
   "execution_count": 25,
   "id": "9f16c4ce",
   "metadata": {
    "ExecuteTime": {
     "end_time": "2024-05-05T13:56:53.411266600Z",
     "start_time": "2024-05-05T13:56:53.404428800Z"
    },
    "metadata": {}
   },
   "outputs": [],
   "source": [
    "# Class Vertice\n",
    "class Vertex:\n",
    "    \n",
    "    def __init__(self, actor_name):\n",
    "        '''O vértice será inserido no Grafo usando o método insert_vertex(x) que cria um Vertex'''\n",
    "        self._vertex_id = actor_name   # nome do ator (elemento do vértice)\n",
    "        \n",
    "    def __hash__(self):\n",
    "        '''O valor do elemento é usado como hash para o vértice (o elemento deve ser hashable)'''\n",
    "        return hash(self._vertex_id)  # devolve o hash do elemento\n",
    "\n",
    "    def __str__(self):\n",
    "        return'v{0}'.format(self._vertex_id)\n",
    "\n",
    "    def __eq__(self, vertex):\n",
    "        return self._vertex_id == vertex._vertex_id # Deve-se garantir que: se hash(vertex)==hash(self), entao vertex==self\n",
    "\n",
    "    def __lt__(self, vertex):\n",
    "        return self._vertex_id < vertex._vertex_id\n",
    "    \n",
    "    def __le__(self, vertex):\n",
    "        return self._vertex_id <= vertex._vertex_id\n",
    "    \n",
    "    def __gt__(self, vertex):\n",
    "        return self._vertex_id > vertex._vertex_id\n",
    "    \n",
    "    def __ge__(self, vertex):\n",
    "        return self._vertex_id >= vertex._vertex_id\n",
    "    \n",
    "    def vertex_id(self):\n",
    "        ''' Devolve o elemento guardado neste vértice.'''\n",
    "        return self._vertex_id\n",
    "\n",
    "\n",
    "# Class Edge\n",
    "class Edge:\n",
    "    ''' Estrutura de Aresta para um Grafo: (origem, destino) e peso '''\n",
    "\n",
    "    def __init__(self, vertex_1, vertex_2, movie_name):\n",
    "        self._vertex_1 = vertex_1\n",
    "        self._vertex_2 = vertex_2\n",
    "        self._movie_name = movie_name\n",
    "\n",
    "    def __hash__(self):\n",
    "        # Função que mapeia a aresta a uma posição no dicionário (hash map)\n",
    "        return hash( (self._vertex_1, self._vertex_2) )\n",
    "\n",
    "    def __str__(self):\n",
    "        ''' Devolve a representação do objeto aresta em string: (origem, destino)m=filme '''\n",
    "        return'E({0}|{1})m={2}'.format(self._vertex_1, self._vertex_2, self._movie_name)\n",
    "\n",
    "    def __eq__(self, other):\n",
    "        # define igualdade de duas arestas (deve ser consistente com a função hash)\n",
    "        return self._vertex_1 == other._vertex_1 and self._vertex_2 == other._vertex_2\n",
    "\n",
    "    def endpoints(self):\n",
    "        ''' Devolve a tupla (vertex_1, vertex_2) os vértices adjacentes vertex_1 e vertex_2.'''\n",
    "        return (self._vertex_1, self._vertex_2)\n",
    "    \n",
    "    def cost(self):\n",
    "        ''' Devolve o peso da aresta.'''\n",
    "        return self._movie_name\n",
    "    \n",
    "    def opposite(self, vertex):\n",
    "        ''' Indica o vértice oposto ao vertex nesta aresta \n",
    "            (apenas se vertex fizer parte da aresta).'''\n",
    "        if vertex == self._vertex_1:\n",
    "            return self._vertex_2\n",
    "        elif vertex == self._vertex_2:\n",
    "            return self._vertex_1\n",
    "        else:\n",
    "            return None"
   ]
  },
  {
   "cell_type": "code",
   "execution_count": 26,
   "id": "80276e750e0fd26",
   "metadata": {
    "ExecuteTime": {
     "end_time": "2024-05-05T13:56:53.443468700Z",
     "start_time": "2024-05-05T13:56:53.411266600Z"
    },
    "collapsed": false,
    "metadata": {}
   },
   "outputs": [],
   "source": [
    "class Graph:\n",
    "    def __init__(self):\n",
    "        '''Construtor: Cria um grafo vazio (dicionário de _adjancencies).'''\n",
    "        self._adjancencies = {}  # dicionário que associa o par chave-valor: <Vertex v, Mapa de adjacências de v> \n",
    "        self._vertices = {}      # dicionário que associa o par: <id do vértice, objeto Vertex correspondente> \n",
    "        self._n = 0              # número de vértices do grafo\n",
    "        self._m = 0              # número de arestas do grafo\n",
    "        \n",
    "    def __str__(self):\n",
    "        '''Devolve a representação do grafo em string (toString)'''\n",
    "        if self._n == 0:\n",
    "            ret = \"DAA-Graph: <empty>\\n\"\n",
    "        else:\n",
    "            ret = \"DAA-Graph:\\n\"\n",
    "            for vertex in self._adjancencies.keys():\n",
    "                #ret += \"vertex-\"\n",
    "                ret += str(vertex) + \": \"\n",
    "                for edge in self.incident_edges(vertex.vertex_id()):\n",
    "                    ret += str(edge) + \"; \"\n",
    "                ret += \"\\n\"\n",
    "        return ret\n",
    "    \n",
    "    def order(self):\n",
    "        '''Ordem de um grafo: a quantidade de vértices no Grafo.'''\n",
    "        return self._n\n",
    "    \n",
    "    def size(self):\n",
    "        '''Dimensão de um grafo: a quantidade total de arestas do Grafo.'''\n",
    "        return self._m \n",
    "    \n",
    "    def has_vertex(self, vertex_id):\n",
    "        '''Verifica se o vértice de id vertex_id está no grafo.'''\n",
    "        return vertex_id in self._vertices\n",
    "    \n",
    "    def has_edge(self, u_id, v_id):\n",
    "        '''Verifica se a aresta (u_id, v_id) existe no grafo.'''\n",
    "        if not self.has_vertex(u_id) or not self.has_vertex(v_id):\n",
    "            return False\n",
    "        else:\n",
    "            vertex_u = self._vertices[u_id]\n",
    "            vertex_v = self._vertices[v_id]\n",
    "            return vertex_v in self._adjancencies[vertex_u]\n",
    "        \n",
    "    def insert_vertex(self, vertex_id):\n",
    "        '''Insere um novo vértice com o id vertex_id.'''\n",
    "        if not self.has_vertex(vertex_id):\n",
    "            vertex = Vertex(vertex_id)\n",
    "            self._vertices[vertex_id] = vertex  # insere o novo vértice no dicionario de vertices\n",
    "            self._adjancencies[vertex] = {}     # inicializa o mapa de adjacências deste vértice a vazio\n",
    "            self._n +=1                         # mais um vértice no grafo\n",
    "\n",
    "    def insert_edge(self, u_id, v_id, movie_name):\n",
    "        ''' Cria e insere uma nova aresta entre u_id e v_id com peso weight.\n",
    "            Se a aresta já existe no grafo, atualiza-se o seu peso.\n",
    "            Também insere os vértices u_id e v_id, caso não existam.'''\n",
    "        if not self.has_vertex(u_id):\n",
    "            self.insert_vertex(u_id) # insere novo vertex e atualiza n\n",
    "        if not self.has_vertex(v_id):\n",
    "            self.insert_vertex(v_id) # insere novo vertex e atualiza n      \n",
    "        if not self.has_edge(u_id, v_id):\n",
    "            self._m +=1           # atualiza m apenas se a aresta ainda não existir no grafo\n",
    "\n",
    "        vertex_u = self._vertices[u_id]\n",
    "        vertex_v = self._vertices[v_id]\n",
    "        e = Edge(vertex_u, vertex_v, movie_name)    \n",
    "        self._adjancencies[vertex_u][vertex_v] = e  # coloca v nas adjacências de u\n",
    "        self._adjancencies[vertex_v][vertex_u] = e  # e u nas adjacências de v (para facilitar a procura de todas as arestas incidentes num vértice)\n",
    "    \n",
    "    def incident_edges(self, vertex_id):\n",
    "        '''Devolve um iterável (gerador) com todas as arestas de um vértice com id vertex_id.'''\n",
    "        vertex = self._vertices[vertex_id]\n",
    "        for edge in self._adjancencies[vertex].values(): # para todas as arestas incidentes em v:\n",
    "            yield edge\n",
    "    \n",
    "    \n",
    "    def get_vertex(self, vertex_id):\n",
    "        ''' Devolve o objeto Vertex associado ao elemento vertex_id no grafo\n",
    "        '''\n",
    "        return None if not self.has_vertex(vertex_id) else self._vertices[vertex_id] \n",
    "    \n",
    "    def get_edge(self, u_id, v_id):\n",
    "        ''' Devolve o objeto aresta (Edge) que liga u_id a v_id. \n",
    "            Devolve None se não forem adjacentes ou se (um d)os vértices não existirem.'''  \n",
    "        #if u_id not in self._adjancencies or v_id not in self._adjancencies:\n",
    "        if not self.has_edge(u_id, v_id):\n",
    "            return None\n",
    "        else:\n",
    "            vertex_u = self._vertices[u_id]\n",
    "            vertex_v = self._vertices[v_id]\n",
    "            return self._adjancencies[vertex_u][vertex_v]\n",
    "    \n",
    "    def vertices(self):\n",
    "        return self._vertices.keys()\n",
    "    \n",
    "    def edges(self):\n",
    "        '''Devolve um iterável sobre todas as arestas do Grafo'''\n",
    "        result = set()  # Use a set to avoid duplicate edges\n",
    "        for vertex in self._adjancencies:\n",
    "            for edge in self._adjancencies[vertex].values():\n",
    "                result.add(edge)\n",
    "        return result\n",
    "    \n",
    "    # To check in String format\n",
    "    '''  \n",
    "    def vertices(self):\n",
    "\n",
    "        return ', '.join(str(vertex) for vertex in self._vertices.values())\n",
    "\n",
    "    def edges(self):\n",
    "        result = set()  # Use a set to avoid duplicate edges\n",
    "        for vertex in self._adjancencies:\n",
    "            for edge in self._adjancencies[vertex].values():\n",
    "                result.add(str(edge))\n",
    "        return ', '.join(result)\n",
    "    '''"
   ]
  },
  {
   "cell_type": "markdown",
   "id": "21ac9666",
   "metadata": {},
   "source": [
    "### 1.b. Implementação da função para construir um Graph a partir dos dados de um ficheiro .txt"
   ]
  },
  {
   "cell_type": "code",
   "execution_count": 27,
   "id": "b95e685cc4057ca5",
   "metadata": {
    "ExecuteTime": {
     "end_time": "2024-05-05T13:57:25.139153600Z",
     "start_time": "2024-05-05T13:57:24.303632Z"
    },
    "collapsed": false,
    "metadata": {}
   },
   "outputs": [],
   "source": [
    "def build_graph_from_file(file_name):\n",
    "    graph = Graph()\n",
    "    with open(file_name, 'r' , encoding='utf-8') as file:\n",
    "        for line in file:\n",
    "            info = line.strip().split('/')\n",
    "            movie = info[0]\n",
    "            actors = info[1:]\n",
    "            for i in range(len(actors)):\n",
    "                for j in range(i + 1, len(actors)):\n",
    "                    graph.insert_edge(actors[i], actors[j], movie)\n",
    "\n",
    "    return graph\n",
    "\n",
    "#Test\n",
    "graph = build_graph_from_file(\"test_dataset.txt\")\n",
    "#print(graph)\n",
    "#print(\"Graph vertices:\", graph.vertices())\n",
    "#print(\"Graph edges:\", graph.edges())"
   ]
  },
  {
   "cell_type": "markdown",
   "id": "6cf8118f",
   "metadata": {},
   "source": [
    "## 2. API HollywoodOracle"
   ]
  },
  {
   "cell_type": "markdown",
   "id": "809d96b7",
   "metadata": {},
   "source": [
    "### 2.b. Implementação da API HollywoodOracle"
   ]
  },
  {
   "cell_type": "code",
   "execution_count": 28,
   "id": "b5f05c14",
   "metadata": {},
   "outputs": [],
   "source": [
    "class HollywoodOracle:\n",
    "    def __init__(self, filename):\n",
    "        self.graph = build_graph_from_file(filename)  # Builds the graph from a file\n",
    "        self.center = \"Bacon, Kevin\"\n",
    "        self.distances = {}\n",
    "        self.calculate_distances(self.center)\n",
    "    \n",
    "    def calculate_distances(self, center):\n",
    "        # This would implement a Breadth-First Search (BFS) from 'center' and calculate the minimum path to all other actors\n",
    "        from collections import deque\n",
    "        queue = deque([center])\n",
    "        visited = set([center])\n",
    "        self.distances = {center: 0}\n",
    "        \n",
    "        while queue:\n",
    "            current = queue.popleft()\n",
    "            current_vertex = self.graph.get_vertex(current)\n",
    "            for edge in self.graph.incident_edges(current):\n",
    "                opposite_vertex = edge.opposite(current_vertex)\n",
    "                if opposite_vertex.vertex_id() not in visited:\n",
    "                    visited.add(opposite_vertex.vertex_id())\n",
    "                    queue.append(opposite_vertex.vertex_id())\n",
    "                    self.distances[opposite_vertex.vertex_id()] = self.distances[current] + 1\n",
    "    \n",
    "    def all_movies(self):\n",
    "        # Return all unique movie names from the graph\n",
    "        return set(edge.cost() for edge in self.graph.edges())\n",
    "\n",
    "    def all_actors(self):\n",
    "        # Return all actor names\n",
    "        return self.graph.vertices()\n",
    "\n",
    "    def movies_from(self, actor):\n",
    "        # Return all movies this actor has participated in\n",
    "        return set(edge.cost() for edge in self.graph.incident_edges(actor))\n",
    "\n",
    "    def cast_of(self, movie):\n",
    "        # Return all actors in a given movie\n",
    "        return set(vertex for edge in self.graph.edges() if edge.cost() == movie for vertex in edge.endpoints())\n",
    "\n",
    "    def set_center_of_universe(self, actor):\n",
    "        # Set a new center and recalculate distances\n",
    "        self.center = actor\n",
    "        self.calculate_distances(actor)\n",
    "\n",
    "    def number_of_X(self, actor):\n",
    "        # Return the \"number of X\" for the given actor\n",
    "        return self.distances.get(actor, float('inf'))\n",
    "\n",
    "    def path_to_X(self, actor):\n",
    "        # Generate the path from actor to the current center of the universe\n",
    "        if actor not in self.distances:\n",
    "            return None\n",
    "        \n",
    "        path = []\n",
    "        current = actor\n",
    "        while current != self.center:\n",
    "            for edge in self.graph.incident_edges(current):\n",
    "                opposite = edge.opposite(self.graph.get_vertex(current))\n",
    "                if self.distances[opposite.vertex_id()] == self.distances[current] - 1:\n",
    "                    path.append((current, edge.cost(), opposite.vertex_id()))\n",
    "                    current = opposite.vertex_id()\n",
    "                    break\n",
    "        return path\n",
    "\n",
    "    def max_number_of_X(self):\n",
    "        # Find the maximum \"number of X\" and count actors with infinite distance\n",
    "        max_distance = max(self.distances.values())\n",
    "        count_infinite = len(set(self.all_actors()) - set(self.distances.keys()))\n",
    "        return max_distance, count_infinite\n",
    "\n",
    "    def count_number_of_X(self, n):\n",
    "        # Count how many actors have the specified \"number of X\"\n",
    "        return sum(1 for distance in self.distances.values() if distance == n)\n",
    "\n",
    "    def average_number_of_X(self):\n",
    "        # Calculate the average \"number of X\" excluding actors with infinite distance\n",
    "        finite_distances = [distance for distance in self.distances.values() if distance != float('inf')]\n",
    "        return sum(finite_distances) / len(finite_distances) if finite_distances else 0"
   ]
  },
  {
   "cell_type": "markdown",
   "id": "03cb27ed",
   "metadata": {},
   "source": [
    "### Verificação da API Hollywood oracle"
   ]
  },
  {
   "cell_type": "code",
   "execution_count": 29,
   "id": "632e9d60",
   "metadata": {},
   "outputs": [
    {
     "name": "stdout",
     "output_type": "stream",
     "text": [
      "\n",
      "Movies from 'Bosco, Philip':\n",
      "['Freedomland (2006)', 'Deconstructing Harry (1997)', 'Money Pit, The (1986)', 'Trading Places (1983)', 'Blue Steel (1990)', 'Quick Change (1990)', \"Nobody's Fool (1994)\", 'Suspect (1987)', 'It Takes Two (1995)', 'Another Woman (1988)', 'First Wives Club, The (1996)', '3 Men and a Baby (1987)', 'F X2 (1991)', 'Milk Money (1994)', \"My Best Friend's Wedding (1997)\", 'Dream Team, The (1989)', 'Wonder Boys (2000)', 'Abandon (2002)', 'Shaft (2000)', 'Kate & Leopold (2001)', 'Working Girl (1988)', 'Children of a Lesser God (1986)', 'Shadows and Fog (1992)', 'Hitch (2005 I)']\n",
      "\n",
      "Path from 'Bosco, Philip' to new center 'Bacon, Kevin':\n",
      "[('Bosco, Philip', 'Abandon (2002)', 'Ward, Fred (I)'), ('Ward, Fred (I)', 'Tremors (1990)', 'Bacon, Kevin')]\n",
      "\n",
      "Max number of X:\n",
      "(6, 603)\n",
      "\n",
      "Count number of X = 2:\n",
      "74200\n",
      "\n",
      "Average number of X:\n",
      "2.388606098422029\n"
     ]
    }
   ],
   "source": [
    "oracle = HollywoodOracle('small_dataset_utf8.txt')\n",
    "def test_hollywood_oracle(graph):\n",
    "    \n",
    "    '''\n",
    "    print(\"All movies:\")\n",
    "    print(list(graph.all_movies()))\n",
    "    \n",
    "    print(\"\\nAll actors:\")\n",
    "    print(list(graph.all_actors()))\n",
    "    '''\n",
    "    \n",
    "    print(\"\\nMovies from 'Bosco, Philip':\")\n",
    "    print(list(graph.movies_from('Bosco, Philip'))) \n",
    "    \n",
    "    #print(\"\\nCast of '3 Men and a Baby (1987)':\")\n",
    "    #cast_Actors = list(graph.cast_of('3 Men and a Baby (1987)'))\n",
    "    #print(cast_Actors)\n",
    "    \n",
    "    print(\"\\nPath from 'Bosco, Philip' to new center 'Bacon, Kevin':\")\n",
    "    print(graph.path_to_X('Bosco, Philip'))\n",
    "    \n",
    "    print(\"\\nMax number of X:\")\n",
    "    print(graph.max_number_of_X())\n",
    "    \n",
    "    print(\"\\nCount number of X = 2:\")\n",
    "    print(graph.count_number_of_X(2))\n",
    "    \n",
    "    print(\"\\nAverage number of X:\")\n",
    "    print(graph.average_number_of_X())\n",
    "\n",
    "# Call the test function\n",
    "test_hollywood_oracle(oracle)"
   ]
  },
  {
   "cell_type": "markdown",
   "id": "8c9f0237",
   "metadata": {},
   "source": [
    "### 2.a. Análise Informal do espaço de memória utilizado"
   ]
  },
  {
   "cell_type": "markdown",
   "id": "ca1b6c9b",
   "metadata": {},
   "source": [
    "__Análise do espaço de memória utilizado:__\n",
    "- O atributo .graph é o que ocupa a maior parte da memória utilizada pela classe, o qual armazena todos os atores e filmes. Se houver n atores e m filmes, e assumindo que um ator e um filme são representados como strings, o espaço de memória ocupado pelo grafo é proporcional a $O(n + m)$\n",
    "- O atributo .distances armazena a distância mínima de cada ator para o ator “central”. Portanto, o espaço de memória ocupado por distances é proporcional ao número de atores $o(n)$\n",
    "- O atributo .center é apenas uma string, logo ocupam uma quantidade constante de memória"
   ]
  },
  {
   "cell_type": "code",
   "execution_count": 30,
   "id": "048f86d7",
   "metadata": {},
   "outputs": [
    {
     "name": "stdout",
     "output_type": "stream",
     "text": [
      "Size of the graph: 1788701888 bytes\n",
      "Size of the distances dictionary: 11736538 bytes\n",
      "Size of the center string: 61 bytes\n"
     ]
    }
   ],
   "source": [
    "import sys\n",
    "\n",
    "def get_size(obj, seen=None):\n",
    "    \"\"\"Recursively find the memory size of a Python object, including its contents if applicable.\"\"\"\n",
    "    if seen is None:\n",
    "        seen = set()\n",
    "\n",
    "    # Avoid double-counting objects\n",
    "    if id(obj) in seen:\n",
    "        return 0\n",
    "    seen.add(id(obj))\n",
    "\n",
    "    size = sys.getsizeof(obj)\n",
    "    \n",
    "    if isinstance(obj, dict):\n",
    "        size += sum((get_size(k, seen) + get_size(v, seen) for k, v in obj.items()))\n",
    "    elif hasattr(obj, '__dict__'):\n",
    "        size += get_size(obj.__dict__, seen)\n",
    "    elif hasattr(obj, '__iter__') and not isinstance(obj, (str, bytes, bytearray)):\n",
    "        size += sum((get_size(i, seen) for i in obj))\n",
    "    \n",
    "    return size\n",
    "\n",
    "# Calculate the size of the graph\n",
    "graph_size = get_size(oracle.graph)\n",
    "print(f\"Size of the graph: {graph_size} bytes\")\n",
    "\n",
    "# Calculate the size of the distances dictionary\n",
    "distances_size = get_size(oracle.distances)\n",
    "print(f\"Size of the distances dictionary: {distances_size} bytes\")\n",
    "\n",
    "# Calculate the size of the center string\n",
    "center_size = get_size(oracle.center)\n",
    "print(f\"Size of the center string: {center_size} bytes\")"
   ]
  },
  {
   "cell_type": "markdown",
   "id": "7f8065f2",
   "metadata": {},
   "source": [
    "## 3. Testes"
   ]
  },
  {
   "cell_type": "markdown",
   "id": "8c2d241e",
   "metadata": {},
   "source": [
    "### 3.a. Histograma do número de atores com o mesmo “número de Bacon”"
   ]
  },
  {
   "cell_type": "code",
   "execution_count": 31,
   "id": "92f57c97",
   "metadata": {},
   "outputs": [
    {
     "name": "stdout",
     "output_type": "stream",
     "text": [
      "Bacon Number 0: 1 actors\n",
      "Bacon Number 1: 1325 actors\n",
      "Bacon Number 2: 74200 actors\n",
      "Bacon Number 3: 44143 actors\n",
      "Bacon Number 4: 1907 actors\n",
      "Bacon Number 5: 201 actors\n",
      "Bacon Number 6: 25 actors\n",
      "Average Bacon Number: 2.39\n"
     ]
    },
    {
     "data": {
      "image/png": "[encoded data removed]",
      "text/plain": [
       "<Figure size 1000x500 with 1 Axes>"
      ]
     },
     "metadata": {},
     "output_type": "display_data"
    }
   ],
   "source": [
    "import matplotlib.pyplot as plt\n",
    "\n",
    "def create_histogram_and_stats(filename):\n",
    "    oracle = HollywoodOracle(filename)\n",
    "\n",
    "    max_bacon_number, _ = oracle.max_number_of_X()\n",
    "    bacon_counts = {}\n",
    "    for i in range(max_bacon_number + 1):\n",
    "        bacon_counts[i] = oracle.count_number_of_X(i)\n",
    "    \n",
    "\n",
    "    for bacon_number, count in bacon_counts.items():\n",
    "        print(f'Bacon Number {bacon_number}: {count} actors')\n",
    "\n",
    "    average_bacon = oracle.average_number_of_X()\n",
    "    print(f'Average Bacon Number: {average_bacon:.2f}')\n",
    "\n",
    "    plt.figure(figsize=(10, 5) , facecolor='grey' )\n",
    "    plt.bar(bacon_counts.keys(), bacon_counts.values(), color='orange', edgecolor='orange')\n",
    "    plt.xlabel('Bacon Number')\n",
    "    plt.ylabel('Number of Actors')\n",
    "    plt.title('Histogram of Bacon Numbers')\n",
    "    plt.xticks(list(bacon_counts.keys()))\n",
    "    plt.show()\n",
    "\n",
    "create_histogram_and_stats('small_dataset_utf8.txt')"
   ]
  },
  {
   "cell_type": "markdown",
   "id": "99b1bf0b",
   "metadata": {},
   "source": [
    "### 3.b. Gráfico do “número de X” médio considerando como o “centro do universo” cada um dos 20 atores mais populares de Hollywood nos anos 2000, segundo o IMBD (usando uma folha de excel)"
   ]
  },
  {
   "cell_type": "code",
   "execution_count": null,
   "id": "bfc68025",
   "metadata": {},
   "outputs": [],
   "source": []
  }
 ],
 "metadata": {
  "kernelspec": {
   "display_name": "Python 3",
   "language": "python",
   "name": "python3"
  },
  "language_info": {
   "codemirror_mode": {
    "name": "ipython",
    "version": 3
   },
   "file_extension": ".py",
   "mimetype": "text/x-python",
   "name": "python",
   "nbconvert_exporter": "python",
   "pygments_lexer": "ipython3",
   "version": "3.11.8"
  }
 },
 "nbformat": 4,
 "nbformat_minor": 5
}

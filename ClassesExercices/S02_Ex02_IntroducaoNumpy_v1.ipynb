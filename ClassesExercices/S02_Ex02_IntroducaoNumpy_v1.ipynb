{
 "cells": [
  {
   "cell_type": "markdown",
   "metadata": {
    "id": "VcSInYTElk3Y"
   },
   "source": [
    "<p style='text-align:right;margin-bottom:18.0pt'><b><span style='font-size:10.0pt;font-family:\n",
    "\"Arial\",sans-serif'>Source:</span></b><span style='font-size:10.0pt;font-family:\n",
    "\"Arial\",sans-serif'> Ana de Almeida, João Cordeiro, Alberto Vilas</span></p>\n",
    "\n",
    "<header style='background-color:#3498DB;padding:18.0px;text-align:center;font-size:22px;color:white;font-family:\"Arial\",sans-serif'>\n",
    "<h2>Iscte – Instituto Universitário de Lisboa </h2>\n",
    "<h2><span style='font-size:20.0pt'>Desenho e Analise de Algoritmos (2023/2024)</span></h2>\n",
    "</header>"
   ]
  },
  {
   "cell_type": "markdown",
   "metadata": {
    "id": "LSFd5DHQlk3a"
   },
   "source": [
    "# Breve introdução ao módulo numpy\n",
    "\n",
    "Este notebook contém alguns exemplos básicos de utilização do módulo numpy.\n",
    "\n",
    "Para começar, basta experimentar executar as células seguintes.\n"
   ]
  },
  {
   "cell_type": "markdown",
   "metadata": {
    "id": "z4wBe6WXlk3b"
   },
   "source": [
    "<font size=\"4\"> <div class=\"alert alert-success\" role=\"alert\"> \n",
    "### Para executar uma célula, basta clicar Shift+Enter.\n",
    "</div></font>"
   ]
  },
  {
   "cell_type": "code",
   "execution_count": 1,
   "metadata": {
    "ExecuteTime": {
     "end_time": "2024-03-12T10:33:56.439863700Z",
     "start_time": "2024-03-12T10:33:55.952848900Z"
    }
   },
   "outputs": [],
   "source": [
    "#importar a biblioteca numérica numpy e criar um alias curto\n",
    "import numpy as np"
   ]
  },
  {
   "cell_type": "code",
   "execution_count": 2,
   "metadata": {
    "ExecuteTime": {
     "end_time": "2024-03-12T10:33:56.462493100Z",
     "start_time": "2024-03-12T10:33:56.442414300Z"
    }
   },
   "outputs": [
    {
     "data": {
      "text/plain": "array([1, 2, 3])"
     },
     "execution_count": 2,
     "metadata": {},
     "output_type": "execute_result"
    }
   ],
   "source": [
    "new_arr = np.array([1, 2, 3]) # cria um novo array de inteiros (ndarray)\n",
    "\n",
    "new_arr"
   ]
  },
  {
   "cell_type": "code",
   "execution_count": 3,
   "metadata": {
    "ExecuteTime": {
     "end_time": "2024-03-12T10:33:56.463513600Z",
     "start_time": "2024-03-12T10:33:56.446115800Z"
    }
   },
   "outputs": [
    {
     "name": "stdout",
     "output_type": "stream",
     "text": [
      "[1 2 3]\n"
     ]
    }
   ],
   "source": [
    "#Note a diferença entre um print(new_arr) e a instrução anterior\n",
    "print(new_arr)"
   ]
  },
  {
   "cell_type": "code",
   "execution_count": 4,
   "metadata": {
    "ExecuteTime": {
     "end_time": "2024-03-12T10:33:56.464536700Z",
     "start_time": "2024-03-12T10:33:56.452585600Z"
    }
   },
   "outputs": [
    {
     "data": {
      "text/plain": "array([1., 2., 3.])"
     },
     "execution_count": 4,
     "metadata": {},
     "output_type": "execute_result"
    }
   ],
   "source": [
    "new_arr2 = np.array([1, 2, 3.0]) # cria um novo array de floats\n",
    "new_arr2"
   ]
  },
  {
   "cell_type": "code",
   "execution_count": 5,
   "metadata": {
    "ExecuteTime": {
     "end_time": "2024-03-12T10:33:56.464903600Z",
     "start_time": "2024-03-12T10:33:56.457792700Z"
    }
   },
   "outputs": [
    {
     "name": "stdout",
     "output_type": "stream",
     "text": [
      "[1. 2. 3.]\n"
     ]
    }
   ],
   "source": [
    "# Mais uma vez, note a diferença visual entre um print(new_arr) e a instrução anterior\n",
    "print(new_arr2)"
   ]
  },
  {
   "cell_type": "code",
   "execution_count": 6,
   "metadata": {
    "ExecuteTime": {
     "end_time": "2024-03-12T10:33:56.468495600Z",
     "start_time": "2024-03-12T10:33:56.461479100Z"
    }
   },
   "outputs": [
    {
     "name": "stdout",
     "output_type": "stream",
     "text": [
      "[0 0 0 0 0]\n"
     ]
    }
   ],
   "source": [
    "new_a3 = np.zeros(5, dtype=int) # cria array de tamanho 5 com zeros inteiros\n",
    "print(new_a3)"
   ]
  },
  {
   "cell_type": "code",
   "execution_count": 7,
   "metadata": {
    "ExecuteTime": {
     "end_time": "2024-03-12T10:33:56.527579300Z",
     "start_time": "2024-03-12T10:33:56.467492600Z"
    }
   },
   "outputs": [
    {
     "data": {
      "text/plain": "array([3, 0, 0, 0, 0])"
     },
     "execution_count": 7,
     "metadata": {},
     "output_type": "execute_result"
    }
   ],
   "source": [
    "new_a3[0] = 3 # alteração de valor em indíce\n",
    "new_a3"
   ]
  },
  {
   "cell_type": "code",
   "execution_count": 8,
   "metadata": {
    "ExecuteTime": {
     "end_time": "2024-03-12T10:33:56.527579300Z",
     "start_time": "2024-03-12T10:33:56.472193900Z"
    }
   },
   "outputs": [
    {
     "name": "stdout",
     "output_type": "stream",
     "text": [
      "[1 1 1 1 1 1 1]\n"
     ]
    }
   ],
   "source": [
    "new_a4 = np.ones(7, dtype=int) # cria array de tamanho 7 com 1s \n",
    "print(new_a4)"
   ]
  },
  {
   "cell_type": "code",
   "execution_count": 9,
   "metadata": {
    "ExecuteTime": {
     "end_time": "2024-03-12T10:33:56.528625900Z",
     "start_time": "2024-03-12T10:33:56.476126200Z"
    }
   },
   "outputs": [
    {
     "name": "stdout",
     "output_type": "stream",
     "text": [
      "[0 1 2 3 4 5 6 7 8 9]\n"
     ]
    }
   ],
   "source": [
    "n = 10\n",
    "new_a5 = np.arange(n) # cria array com inteiros de 0 a (n-1)\n",
    "print(new_a5)"
   ]
  },
  {
   "cell_type": "code",
   "execution_count": 10,
   "metadata": {
    "ExecuteTime": {
     "end_time": "2024-03-12T10:33:56.528625900Z",
     "start_time": "2024-03-12T10:33:56.479442800Z"
    }
   },
   "outputs": [
    {
     "data": {
      "text/plain": "array([2. , 2.2, 2.4, 2.6, 2.8])"
     },
     "execution_count": 10,
     "metadata": {},
     "output_type": "execute_result"
    }
   ],
   "source": [
    "i = 2\n",
    "j = 3\n",
    "step = 0.2\n",
    "new_a6 = np.arange(i, j, step)  # cria array com floats (devido ao passo ser um float) de i a (j-1) com variação step \n",
    "new_a6"
   ]
  },
  {
   "cell_type": "code",
   "execution_count": 11,
   "metadata": {
    "ExecuteTime": {
     "end_time": "2024-03-12T10:33:56.529648900Z",
     "start_time": "2024-03-12T10:33:56.484972600Z"
    }
   },
   "outputs": [
    {
     "data": {
      "text/plain": "5"
     },
     "execution_count": 11,
     "metadata": {},
     "output_type": "execute_result"
    }
   ],
   "source": [
    "len(new_a6)"
   ]
  },
  {
   "cell_type": "markdown",
   "metadata": {},
   "source": [
    " >A estrutura de *array* é indexada a partir do **zero** e até **n-1** onde n = len(list). "
   ]
  },
  {
   "cell_type": "code",
   "execution_count": 12,
   "metadata": {
    "ExecuteTime": {
     "end_time": "2024-03-12T10:33:56.530677700Z",
     "start_time": "2024-03-12T10:33:56.489342400Z"
    }
   },
   "outputs": [
    {
     "data": {
      "text/plain": "array([[1, 2],\n       [3, 4]])"
     },
     "execution_count": 12,
     "metadata": {},
     "output_type": "execute_result"
    }
   ],
   "source": [
    "new_m = np.array([(1, 2), (3, 4)]) # cria um novo array de duas dimensões - matriz -de inteiros\n",
    "new_m"
   ]
  },
  {
   "cell_type": "markdown",
   "metadata": {},
   "source": [
    ">As funções de criação de matrizes 2D, por exemplo, numpy.zeros, numpy.eye, numpy.diag e numpy.vander, numpy.random definem propriedades de matrizes especiais representadas como matrizes 2D. Experimente-as..."
   ]
  },
  {
   "cell_type": "code",
   "execution_count": 13,
   "metadata": {
    "ExecuteTime": {
     "end_time": "2024-03-12T10:33:56.530940800Z",
     "start_time": "2024-03-12T10:33:56.494011600Z"
    }
   },
   "outputs": [
    {
     "data": {
      "text/plain": "array([[0., 0., 0.],\n       [0., 0., 0.]])"
     },
     "execution_count": 13,
     "metadata": {},
     "output_type": "execute_result"
    }
   ],
   "source": [
    "np.zeros((2, 3))"
   ]
  },
  {
   "cell_type": "markdown",
   "metadata": {},
   "source": [
    ">As funções de criação de ndarray, por exemplo, numpy.ones, numpy.zeros e random, definem arrays com base na forma desejada. "
   ]
  },
  {
   "cell_type": "code",
   "execution_count": 14,
   "metadata": {
    "ExecuteTime": {
     "end_time": "2024-03-12T10:33:56.597507300Z",
     "start_time": "2024-03-12T10:33:56.499583Z"
    }
   },
   "outputs": [
    {
     "data": {
      "text/plain": "array([[[1.],\n        [1.]],\n\n       [[1.],\n        [1.]],\n\n       [[1.],\n        [1.]]])"
     },
     "execution_count": 14,
     "metadata": {},
     "output_type": "execute_result"
    }
   ],
   "source": [
    "np.ones((3, 2, 1)) # matriz 3-D (tensor); veja com atenção os índices..."
   ]
  },
  {
   "cell_type": "markdown",
   "metadata": {},
   "source": [
    ">De seguida, são criadas 2 matrizes com valores aleatórios com as formas 2x2 e 2x4x3 (formas (2,3) e (2,4,3)), respetivamente. \n",
    "A semente é 45 para que possam replicar estes mesmos números pseudo-aleatórios:"
   ]
  },
  {
   "cell_type": "code",
   "execution_count": 15,
   "metadata": {
    "ExecuteTime": {
     "end_time": "2024-03-12T10:33:56.598541200Z",
     "start_time": "2024-03-12T10:33:56.504102700Z"
    }
   },
   "outputs": [
    {
     "data": {
      "text/plain": "array([[0.57313066, 0.52849115],\n       [0.76365024, 0.81169277]])"
     },
     "execution_count": 15,
     "metadata": {},
     "output_type": "execute_result"
    }
   ],
   "source": [
    "#primeiro importar o módulo necessário\n",
    "import numpy.random\n",
    "\n",
    "#criar uma instância do gerador (seed igual a 45)\n",
    "rng = np.random.default_rng(45)\n",
    "\n",
    "#depois, criar as matrizes:\n",
    "rng.random((2,2))"
   ]
  },
  {
   "cell_type": "code",
   "execution_count": 16,
   "metadata": {
    "ExecuteTime": {
     "end_time": "2024-03-12T10:33:56.599570400Z",
     "start_time": "2024-03-12T10:33:56.509585900Z"
    }
   },
   "outputs": [
    {
     "data": {
      "text/plain": "array([[[0.51022886, 0.77933967, 0.7961133 ],\n        [0.594755  , 0.40857805, 0.67127644],\n        [0.62746783, 0.84008236, 0.72416349],\n        [0.52901841, 0.96406592, 0.46875421]],\n\n       [[0.81110597, 0.86527687, 0.62984293],\n        [0.04691164, 0.05488732, 0.11987991],\n        [0.70230947, 0.04407558, 0.70020679],\n        [0.41987544, 0.36937176, 0.15392513]]])"
     },
     "execution_count": 16,
     "metadata": {},
     "output_type": "execute_result"
    }
   ],
   "source": [
    "rng.random((2,4,3))"
   ]
  },
  {
   "cell_type": "code",
   "execution_count": 17,
   "metadata": {
    "ExecuteTime": {
     "end_time": "2024-03-12T10:33:56.599570400Z",
     "start_time": "2024-03-12T10:33:56.514354700Z"
    }
   },
   "outputs": [
    {
     "data": {
      "text/plain": "array([[[2, 0, 0, 0],\n        [1, 3, 4, 0],\n        [0, 3, 1, 3]],\n\n       [[2, 2, 4, 4],\n        [3, 1, 0, 0],\n        [0, 2, 1, 1]]], dtype=int64)"
     },
     "execution_count": 17,
     "metadata": {},
     "output_type": "execute_result"
    }
   ],
   "source": [
    "#agora uma matriz com valores aleatórios no intervalo [0,4[\n",
    "rng.integers(0, 5, size=(2,3,4))"
   ]
  },
  {
   "cell_type": "markdown",
   "metadata": {},
   "source": [
    "<font size=\"4\"> <div class=\"alert alert-success\" role=\"alert\">\n",
    "    Esta é uma boa altura para recordar que a documentação oficial para os módulos do *numpy*, pode ser encontrada em https://numpy.org/doc/stable/user/absolute_beginners.html\n",
    "    \n",
    "E, já agora, um livro on-line (Think Python 2, 2nd edition): http://greenteapress.com/thinkpython2/html/index.html\n",
    "    \n",
    "</div></font>"
   ]
  },
  {
   "cell_type": "markdown",
   "metadata": {},
   "source": [
    "## Algoritmo mistério em Python\n",
    "\n",
    "Siga as instruções de código seguintes e veja se consegue entender o que se passa. Vamos usar este código na próxima semana!"
   ]
  },
  {
   "cell_type": "code",
   "execution_count": 18,
   "metadata": {
    "ExecuteTime": {
     "end_time": "2024-03-12T10:33:56.599570400Z",
     "start_time": "2024-03-12T10:33:56.519458200Z"
    }
   },
   "outputs": [],
   "source": [
    "# Um algoritmo que ordena a list A\n",
    "# Este código altera diretamente A\n",
    "# Verifique que percebe como funciona!\n",
    "def AlgoritmoMisterio(A):\n",
    "    for i in range(1,len(A)):\n",
    "        current = A[i]\n",
    "        j = i-1\n",
    "        while j >= 0 and A[j] > current:\n",
    "            A[j+1] = A[j]\n",
    "            j -= 1\n",
    "        A[j+1] = current"
   ]
  },
  {
   "cell_type": "code",
   "execution_count": 19,
   "metadata": {
    "ExecuteTime": {
     "end_time": "2024-03-12T10:33:56.601714600Z",
     "start_time": "2024-03-12T10:33:56.523331800Z"
    }
   },
   "outputs": [
    {
     "name": "stdout",
     "output_type": "stream",
     "text": [
      "[ 8  3  4  1  6  7 11  5]\n",
      "[ 1  3  4  5  6  7  8 11]\n"
     ]
    }
   ],
   "source": [
    "# Vamos fazer um teste simples (controlado)\n",
    "A = np.array([8,3,4,1,6,7,11,5])\n",
    "print(A)\n",
    "AlgoritmoMisterio(A)\n",
    "print(A)"
   ]
  },
  {
   "cell_type": "code",
   "execution_count": 20,
   "metadata": {
    "ExecuteTime": {
     "end_time": "2024-03-12T10:33:56.614435400Z",
     "start_time": "2024-03-12T10:33:56.528625900Z"
    }
   },
   "outputs": [
    {
     "name": "stdout",
     "output_type": "stream",
     "text": [
      "[11  8  3  1  6  5  4  7]\n",
      "[ 1  3  4  5  6  7  8 11]\n"
     ]
    }
   ],
   "source": [
    "C=rng.permutation(A)\n",
    "print(C)\n",
    "AlgoritmoMisterio(C)\n",
    "print(C)"
   ]
  },
  {
   "cell_type": "code",
   "execution_count": 21,
   "metadata": {
    "ExecuteTime": {
     "end_time": "2024-03-12T10:33:56.615523900Z",
     "start_time": "2024-03-12T10:33:56.533486900Z"
    }
   },
   "outputs": [
    {
     "name": "stdout",
     "output_type": "stream",
     "text": [
      "Python sort in-place: [1, 3, 4, 5, 6]\n",
      "Python sort fazendo uma cópia: [1, 3, 4, 5, 6]\n",
      "Input original: [5, 3, 4, 1, 6]\n",
      "[1, 3, 4, 5, 6]\n",
      "Python sort sem alterar o input: [1, 3, 4, 5, 6]\n",
      "Input original: [5, 3, 4, 1, 6]\n"
     ]
    }
   ],
   "source": [
    "# O Python tem métodos implementados para ordenar lists\n",
    "A = [5,3,4,1,6]\n",
    "A.sort()  # Python's built-in sort also sorts A in-place\n",
    "print('Python sort in-place:', A)\n",
    "\n",
    "# Se não quisermos alterar a list A, podemos resolver:\n",
    "A = [5,3,4,1,6] # partir novamente de um A desordenado\n",
    "B = A[:] # copia A para B\n",
    "B.sort()\n",
    "print('Python sort fazendo uma cópia:', B)\n",
    "\n",
    "print('Input original:', A)\n",
    "\n",
    "print(B)\n",
    "\n",
    "#ou podemos usar a função sorted(), que funciona com qualquer iterável:\n",
    "C = sorted(A)\n",
    "print('Python sort sem alterar o input:', C)\n",
    "print('Input original:', A)\n"
   ]
  },
  {
   "cell_type": "code",
   "outputs": [],
   "source": [
    "#InsertionSort\n",
    "\n",
    "def insertionsort(List):\n",
    "    for i in range(1,len(List)):\n",
    "        j = i\n",
    "        while j>0 and List[j-1]>List[j]:\n",
    "            List[j] , List[j-1] = List[j-1], List[j]\n",
    "            j-=1\n",
    "\n",
    "#QuickSort\n",
    "def quicksort(List):\n",
    "    length = len(List)\n",
    "    if length <= 1 :\n",
    "        return List\n",
    "    \n",
    "    pivot = List.pop()\n",
    "    low , high = [],[]\n",
    "    for i in List : \n",
    "        if i > pivot : high.append(i)\n",
    "        else : low.append(i)\n",
    "    \n",
    "    return quicksort(low) + [pivot] + quicksort(high)\n",
    "\n",
    "#MergeSort\n",
    "def mergesort(List):\n",
    "    middle = len(List)-1 // 2\n",
    "    left = mergesort(List[:middle])\n",
    "    right = mergesort(List[middle:])\n",
    "    com = left + right\n",
    "    return com\n",
    "    \n",
    "def merge (l , r):\n",
    "    sortedList = []\n",
    "    i , j = 0  \n",
    "    while i < len(l) and j < len(r):\n",
    "        if l[i] < r[j]: \n",
    "            sortedList.append(l[i])\n",
    "            i += 1 \n",
    "        else: \n",
    "            sortedList.append(r[j])\n",
    "            j += 1\n",
    "    \n",
    "    sortedList += l[i:]\n",
    "    sortedList += r[j:]\n",
    "    \n",
    "    return sortedList"
   ],
   "metadata": {
    "collapsed": false,
    "ExecuteTime": {
     "end_time": "2024-03-12T10:33:56.616526800Z",
     "start_time": "2024-03-12T10:33:56.538618300Z"
    }
   },
   "execution_count": 22
  },
  {
   "cell_type": "code",
   "outputs": [
    {
     "name": "stdout",
     "output_type": "stream",
     "text": [
      "array ordenada: [1, 2, 3, 4, 5, 6, 7, 8]\n",
      "array ordem inversa: [8, 7, 6, 5, 4, 3, 2, 1]\n",
      "array random: [4, 2, 6, 1, 8, 7, 5, 9]\n"
     ]
    },
    {
     "ename": "TypeError",
     "evalue": "object of type 'int' has no len()",
     "output_type": "error",
     "traceback": [
      "\u001B[1;31m---------------------------------------------------------------------------\u001B[0m",
      "\u001B[1;31mTypeError\u001B[0m                                 Traceback (most recent call last)",
      "Cell \u001B[1;32mIn[23], line 16\u001B[0m\n\u001B[0;32m     14\u001B[0m nValuesQS, tValuesQS \u001B[38;5;241m=\u001B[39m tryItABunch2( quicksort, startN \u001B[38;5;241m=\u001B[39m \u001B[38;5;241m50\u001B[39m, endN \u001B[38;5;241m=\u001B[39m \u001B[38;5;241m1050\u001B[39m, stepSize\u001B[38;5;241m=\u001B[39m\u001B[38;5;241m50\u001B[39m, numTrials\u001B[38;5;241m=\u001B[39m\u001B[38;5;241m5\u001B[39m, listMax \u001B[38;5;241m=\u001B[39m \u001B[38;5;241m10\u001B[39m) \n\u001B[0;32m     15\u001B[0m nValuesIS, tValuesIS \u001B[38;5;241m=\u001B[39m tryItABunch2( insertionsort, startN \u001B[38;5;241m=\u001B[39m \u001B[38;5;241m50\u001B[39m, endN \u001B[38;5;241m=\u001B[39m \u001B[38;5;241m1050\u001B[39m, stepSize\u001B[38;5;241m=\u001B[39m\u001B[38;5;241m50\u001B[39m, numTrials\u001B[38;5;241m=\u001B[39m\u001B[38;5;241m5\u001B[39m, listMax \u001B[38;5;241m=\u001B[39m \u001B[38;5;241m10\u001B[39m) \n\u001B[1;32m---> 16\u001B[0m nValuesMS, tValuesMS \u001B[38;5;241m=\u001B[39m \u001B[43mtryItABunch\u001B[49m\u001B[43m(\u001B[49m\u001B[43mmergesort\u001B[49m\u001B[43m,\u001B[49m\u001B[43m \u001B[49m\u001B[43mstartN\u001B[49m\u001B[38;5;241;43m=\u001B[39;49m\u001B[38;5;241;43m10\u001B[39;49m\u001B[43m,\u001B[49m\u001B[43m \u001B[49m\u001B[43mendN\u001B[49m\u001B[38;5;241;43m=\u001B[39;49m\u001B[38;5;241;43m100\u001B[39;49m\u001B[43m,\u001B[49m\u001B[43m \u001B[49m\u001B[43mstepSize\u001B[49m\u001B[38;5;241;43m=\u001B[39;49m\u001B[38;5;241;43m10\u001B[39;49m\u001B[43m,\u001B[49m\u001B[43m \u001B[49m\u001B[43mnumTrials\u001B[49m\u001B[38;5;241;43m=\u001B[39;49m\u001B[38;5;241;43m35\u001B[39;49m\u001B[43m)\u001B[49m\n",
      "File \u001B[1;32m~\\OneDrive\\Documents\\JupyterStuff\\testar.py:24\u001B[0m, in \u001B[0;36mtryItABunch\u001B[1;34m(myFn, startN, endN, stepSize, numTrials)\u001B[0m\n\u001B[0;32m     22\u001B[0m \u001B[38;5;28;01mfor\u001B[39;00m t \u001B[38;5;129;01min\u001B[39;00m \u001B[38;5;28mrange\u001B[39m(numTrials):\n\u001B[0;32m     23\u001B[0m     start \u001B[38;5;241m=\u001B[39m time\u001B[38;5;241m.\u001B[39mtime()\n\u001B[1;32m---> 24\u001B[0m     \u001B[43mmyFn\u001B[49m\u001B[43m(\u001B[49m\u001B[43m \u001B[49m\u001B[43mn\u001B[49m\u001B[43m \u001B[49m\u001B[43m)\u001B[49m\n\u001B[0;32m     25\u001B[0m     end \u001B[38;5;241m=\u001B[39m time\u001B[38;5;241m.\u001B[39mtime()\n\u001B[0;32m     26\u001B[0m     runtime \u001B[38;5;241m+\u001B[39m\u001B[38;5;241m=\u001B[39m (end \u001B[38;5;241m-\u001B[39m start) \u001B[38;5;241m*\u001B[39m \u001B[38;5;241m1000\u001B[39m \u001B[38;5;66;03m# measure in milliseconds\u001B[39;00m\n",
      "Cell \u001B[1;32mIn[22], line 26\u001B[0m, in \u001B[0;36mmergesort\u001B[1;34m(List)\u001B[0m\n\u001B[0;32m     25\u001B[0m \u001B[38;5;28;01mdef\u001B[39;00m \u001B[38;5;21mmergesort\u001B[39m(List):\n\u001B[1;32m---> 26\u001B[0m     middle \u001B[38;5;241m=\u001B[39m \u001B[38;5;28;43mlen\u001B[39;49m\u001B[43m(\u001B[49m\u001B[43mList\u001B[49m\u001B[43m)\u001B[49m\u001B[38;5;241m-\u001B[39m\u001B[38;5;241m1\u001B[39m \u001B[38;5;241m/\u001B[39m\u001B[38;5;241m/\u001B[39m \u001B[38;5;241m2\u001B[39m\n\u001B[0;32m     27\u001B[0m     left \u001B[38;5;241m=\u001B[39m mergesort(List[:middle])\n\u001B[0;32m     28\u001B[0m     right \u001B[38;5;241m=\u001B[39m mergesort(List[middle:])\n",
      "\u001B[1;31mTypeError\u001B[0m: object of type 'int' has no len()"
     ]
    }
   ],
   "source": [
    "import random\n",
    "from testar import tryItABunch2, tryItABunch\n",
    "\n",
    "#TESTAR\n",
    "v1 = [1,2,3,4,5,6,7,8]\n",
    "v2 = [8,7,6,5,4,3,2,1]\n",
    "v3 = random.sample(range(1,10),8)\n",
    "\n",
    "print(\"array ordenada:\" , v1 )\n",
    "print(\"array ordem inversa:\" , v2 )\n",
    "print(\"array random:\" , v3 )\n",
    "\n",
    "# nValues - valor do tamanho do array / tValues - tempo de execucao para esse tamanho do array\n",
    "nValuesQS, tValuesQS = tryItABunch2( quicksort, startN = 50, endN = 1050, stepSize=50, numTrials=5, listMax = 10) \n",
    "nValuesIS, tValuesIS = tryItABunch2( insertionsort, startN = 50, endN = 1050, stepSize=50, numTrials=5, listMax = 10) \n",
    "nValuesMS, tValuesMS = tryItABunch(mergesort, startN=10, endN=100, stepSize=10, numTrials=35)\n"
   ],
   "metadata": {
    "collapsed": false,
    "ExecuteTime": {
     "end_time": "2024-03-12T10:33:57.639872600Z",
     "start_time": "2024-03-12T10:33:56.544712800Z"
    }
   },
   "execution_count": 23
  },
  {
   "cell_type": "code",
   "outputs": [],
   "source": [
    "print( \"QUICKSORT:\")\n",
    "qs_info = np.array([nValuesQS,tValuesQS])\n",
    "qs_info"
   ],
   "metadata": {
    "collapsed": false,
    "ExecuteTime": {
     "end_time": "2024-03-12T10:33:57.643010100Z",
     "start_time": "2024-03-12T10:33:57.641888300Z"
    }
   },
   "execution_count": null
  },
  {
   "cell_type": "code",
   "outputs": [],
   "source": [
    "print( \"INSERTIONSORT:\")\n",
    "is_info = np.array([nValuesIS,tValuesIS])\n",
    "is_info"
   ],
   "metadata": {
    "collapsed": false,
    "ExecuteTime": {
     "start_time": "2024-03-12T10:33:57.644069800Z"
    }
   },
   "execution_count": null
  },
  {
   "cell_type": "code",
   "outputs": [],
   "source": [
    "print( \"MERGESORT:\")\n",
    "ms_info = np.array([nValuesMS,tValuesMS])\n",
    "ms_info "
   ],
   "metadata": {
    "collapsed": false,
    "ExecuteTime": {
     "end_time": "2024-03-12T10:33:57.648446800Z",
     "start_time": "2024-03-12T10:33:57.645211900Z"
    }
   },
   "execution_count": null
  },
  {
   "cell_type": "code",
   "outputs": [],
   "source": [],
   "metadata": {
    "collapsed": false,
    "ExecuteTime": {
     "start_time": "2024-03-12T10:33:57.646241300Z"
    }
   }
  }
 ],
 "metadata": {
  "colab": {
   "name": "preLecture2.ipynb",
   "provenance": []
  },
  "kernelspec": {
   "display_name": "Python 3",
   "language": "python",
   "name": "python3"
  },
  "language_info": {
   "codemirror_mode": {
    "name": "ipython",
    "version": 3
   },
   "file_extension": ".py",
   "mimetype": "text/x-python",
   "name": "python",
   "nbconvert_exporter": "python",
   "pygments_lexer": "ipython3",
   "version": "3.7.6"
  }
 },
 "nbformat": 4,
 "nbformat_minor": 1
}

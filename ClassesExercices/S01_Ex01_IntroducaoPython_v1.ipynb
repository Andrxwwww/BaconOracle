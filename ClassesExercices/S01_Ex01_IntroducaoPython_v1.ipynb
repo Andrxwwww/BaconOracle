{
 "cells": [
  {
   "cell_type": "markdown",
   "metadata": {
    "id": "VcSInYTElk3Y"
   },
   "source": [
    "<p style='text-align:right;margin-bottom:18.0pt'><b><span style='font-size:10.0pt;font-family:\n",
    "\"Arial\",sans-serif'>Source:</span></b><span style='font-size:10.0pt;font-family:\n",
    "\"Arial\",sans-serif'> Caroline Conti (with portions from Mary Wootters + Nima Anari + Ana Almeida)</span></p>\n",
    "\n",
    "<header style='background-color:#3498DB;padding:18.0px;text-align:center;font-size:22px;color:white;font-family:\"Arial\",sans-serif'>\n",
    "<h2>Iscte – Instituto Universitário de Lisboa </h2>\n",
    "<h2><span style='font-size:20.0pt'>Desenho e Analise de Algoritmos (2023/2024)</span></h2>\n",
    "</header>"
   ]
  },
  {
   "cell_type": "markdown",
   "metadata": {
    "id": "LSFd5DHQlk3a"
   },
   "source": [
    "# Breve introdução ao Python\n",
    "\n",
    "IPython notebook de apoio para a familiarização com a linguagem de programação Python.\n",
    "\n",
    "Este notebook contém apenas um resumo do que é necessário saber para conseguir resolver os exercícios da Semana 1.\n",
    "\n",
    "\n",
    "Para começar, basta experimentar executar as células seguintes.\n"
   ]
  },
  {
   "cell_type": "markdown",
   "metadata": {
    "id": "z4wBe6WXlk3b"
   },
   "source": [
    "<font size=\"4\"> <div class=\"alert alert-success\" role=\"alert\"> \n",
    "    ### Para executar uma célula, basta clicar Shift+Enter.\n",
    "</div></font>"
   ]
  },
  {
   "cell_type": "code",
   "execution_count": 3,
   "metadata": {
    "colab": {
     "base_uri": "https://localhost:8080/"
    },
    "id": "fqpPfzoClk3b",
    "outputId": "339de229-687a-4432-f7dc-29496254f0a2",
    "ExecuteTime": {
     "end_time": "2024-02-07T10:46:01.960189Z",
     "start_time": "2024-02-07T10:46:01.947595500Z"
    }
   },
   "outputs": [
    {
     "name": "stdout",
     "output_type": "stream",
     "text": [
      "Hello World!\n"
     ]
    }
   ],
   "source": [
    "print(\"Hello World!\")  # Hello world is really easy in python!"
   ]
  },
  {
   "cell_type": "markdown",
   "metadata": {},
   "source": [
    "## Variáveis\n",
    "\n",
    "Python é uma linguagem de tipagem dinâmica, o que significa que os tipos das variáveis só são declarados quando lhes é atribuído um valor. O tipo da variável pode mudar a cada nova atribuição.\n",
    "\n",
    "> Por este motivo, é aconselhável escolher nomes de variáveis significativos e utilizá-los de forma consistente."
   ]
  },
  {
   "cell_type": "code",
   "execution_count": 12,
   "metadata": {
    "ExecuteTime": {
     "end_time": "2024-02-07T10:48:37.466295600Z",
     "start_time": "2024-02-07T10:48:37.457580Z"
    }
   },
   "outputs": [
    {
     "data": {
      "text/plain": "str"
     },
     "execution_count": 12,
     "metadata": {},
     "output_type": "execute_result"
    }
   ],
   "source": [
    "name = \"John Doe\"\n",
    "type(name)"
   ]
  },
  {
   "cell_type": "code",
   "execution_count": 13,
   "metadata": {
    "ExecuteTime": {
     "end_time": "2024-02-07T10:48:38.846697700Z",
     "start_time": "2024-02-07T10:48:38.837266800Z"
    }
   },
   "outputs": [
    {
     "data": {
      "text/plain": "int"
     },
     "execution_count": 13,
     "metadata": {},
     "output_type": "execute_result"
    }
   ],
   "source": [
    "name = 2\n",
    "type(name)"
   ]
  },
  {
   "cell_type": "code",
   "execution_count": 14,
   "metadata": {
    "ExecuteTime": {
     "end_time": "2024-02-07T10:48:39.879125500Z",
     "start_time": "2024-02-07T10:48:39.870298800Z"
    }
   },
   "outputs": [
    {
     "name": "stdout",
     "output_type": "stream",
     "text": [
      "John\n",
      "Doe\n"
     ]
    },
    {
     "data": {
      "text/plain": "str"
     },
     "execution_count": 14,
     "metadata": {},
     "output_type": "execute_result"
    }
   ],
   "source": [
    "c = '''Jo\\\n",
    "hn\n",
    "Doe''' # String em multiplas linhas\n",
    "print(c)\n",
    "type(c)"
   ]
  },
  {
   "cell_type": "code",
   "execution_count": 15,
   "metadata": {
    "ExecuteTime": {
     "end_time": "2024-02-07T10:48:40.729918100Z",
     "start_time": "2024-02-07T10:48:40.720389200Z"
    }
   },
   "outputs": [
    {
     "name": "stdout",
     "output_type": "stream",
     "text": [
      "1\n",
      "True\n",
      "three\n"
     ]
    }
   ],
   "source": [
    "a, b, c = 1, True, 'three' # Pode-se atribuir múltiplos valores em simultâneo\n",
    "print(a)\n",
    "print(b)\n",
    "print(c)"
   ]
  },
  {
   "cell_type": "markdown",
   "metadata": {},
   "source": [
    "Para incrementar e decrementar variáveis, deve usar os seguintes operadores de atribuição:"
   ]
  },
  {
   "cell_type": "code",
   "execution_count": 9,
   "metadata": {
    "ExecuteTime": {
     "end_time": "2024-02-07T10:46:48.546380400Z",
     "start_time": "2024-02-07T10:46:48.529330500Z"
    }
   },
   "outputs": [],
   "source": [
    "x = 0\n",
    "x += 1 # x é 1\n",
    "x -= 1 # x é 0 novamente"
   ]
  },
  {
   "cell_type": "markdown",
   "metadata": {},
   "source": [
    "## Operadores\n",
    "Alguns exemplos de operadores Python que são diferentes daqueles que já conhece do Java:"
   ]
  },
  {
   "cell_type": "code",
   "execution_count": 16,
   "metadata": {
    "ExecuteTime": {
     "end_time": "2024-02-07T10:48:45.782519600Z",
     "start_time": "2024-02-07T10:48:45.766471800Z"
    }
   },
   "outputs": [
    {
     "name": "stdout",
     "output_type": "stream",
     "text": [
      "0.5\n",
      "0\n"
     ]
    }
   ],
   "source": [
    "x = 1 / 2  # divisao em vírgula flutuante\n",
    "print(x)\n",
    "y = 1 // 2 # divisão inteira\n",
    "print(y)"
   ]
  },
  {
   "cell_type": "code",
   "execution_count": 2,
   "metadata": {
    "ExecuteTime": {
     "end_time": "2024-02-07T10:49:30.393944Z",
     "start_time": "2024-02-07T10:49:30.347712800Z"
    }
   },
   "outputs": [
    {
     "name": "stdout",
     "output_type": "stream",
     "text": [
      "-1.5\n",
      "-2\n"
     ]
    }
   ],
   "source": [
    "x = -3 / 2  # divisao em vírgula flutuante\n",
    "print(x)\n",
    "y = -3 // 2 # divisão inteira\n",
    "print(y)"
   ]
  },
  {
   "cell_type": "code",
   "execution_count": 3,
   "metadata": {
    "ExecuteTime": {
     "end_time": "2024-02-07T10:49:32.703416400Z",
     "start_time": "2024-02-07T10:49:32.692396800Z"
    }
   },
   "outputs": [
    {
     "name": "stdout",
     "output_type": "stream",
     "text": [
      "-8\n"
     ]
    }
   ],
   "source": [
    "z = y ** 3 # potência\n",
    "print(z)"
   ]
  },
  {
   "cell_type": "code",
   "execution_count": 4,
   "metadata": {
    "ExecuteTime": {
     "end_time": "2024-02-07T10:49:36.769361600Z",
     "start_time": "2024-02-07T10:49:36.749870600Z"
    }
   },
   "outputs": [
    {
     "data": {
      "text/plain": "'to be, or not to be'"
     },
     "execution_count": 4,
     "metadata": {},
     "output_type": "execute_result"
    }
   ],
   "source": [
    "a = 'to be, '\n",
    "b = \"or not to be\"\n",
    "a + b # concatena as strings"
   ]
  },
  {
   "cell_type": "code",
   "execution_count": 5,
   "metadata": {
    "ExecuteTime": {
     "end_time": "2024-02-07T10:49:43.161397400Z",
     "start_time": "2024-02-07T10:49:43.097374900Z"
    }
   },
   "outputs": [
    {
     "name": "stdout",
     "output_type": "stream",
     "text": [
      "python\n"
     ]
    }
   ],
   "source": [
    "c = (\"py\" 'thon') # concatena strings literais, mesmo em linhas diferentes\n",
    "print(c) "
   ]
  },
  {
   "cell_type": "code",
   "execution_count": null,
   "metadata": {},
   "outputs": [],
   "source": [
    "n = 2          \n",
    "string = 'repete '\n",
    "n * string # repete uma string n vezes"
   ]
  },
  {
   "cell_type": "code",
   "execution_count": 6,
   "metadata": {
    "ExecuteTime": {
     "end_time": "2024-02-07T10:49:47.991265100Z",
     "start_time": "2024-02-07T10:49:47.947500900Z"
    }
   },
   "outputs": [
    {
     "name": "stdout",
     "output_type": "stream",
     "text": [
      "True\n",
      "False\n",
      "True\n"
     ]
    }
   ],
   "source": [
    "# Exemplos de operações lógicas\n",
    "a = 4 > 0 \n",
    "print(a)\n",
    "\n",
    "# Strings são comparadas lexicograficamente, ou seja,\n",
    "# em ordem alfabética, letra por letra.\n",
    "b = \"abacate\" > \"banana\" \n",
    "print(b)\n",
    "\n",
    "# Expressões lógicas podem ser combinadas para produzir\n",
    "# expressões mais complexas.\n",
    "m = k = 7\n",
    "print(m <= k and k <= m) "
   ]
  },
  {
   "cell_type": "markdown",
   "metadata": {},
   "source": [
    "Algumas funções matemáticas comuns:"
   ]
  },
  {
   "cell_type": "code",
   "execution_count": null,
   "metadata": {},
   "outputs": [],
   "source": [
    "abs(x) # valor absoluto"
   ]
  },
  {
   "cell_type": "code",
   "execution_count": null,
   "metadata": {},
   "outputs": [],
   "source": [
    "round(x)"
   ]
  },
  {
   "cell_type": "markdown",
   "metadata": {},
   "source": [
    "Conversão de tipos:"
   ]
  },
  {
   "cell_type": "code",
   "execution_count": 8,
   "metadata": {
    "ExecuteTime": {
     "end_time": "2024-02-07T10:50:33.206592100Z",
     "start_time": "2024-02-07T10:50:33.151027700Z"
    }
   },
   "outputs": [
    {
     "name": "stdout",
     "output_type": "stream",
     "text": [
      "<class 'str'>\n",
      "2\n",
      "2.0\n"
     ]
    }
   ],
   "source": [
    "# Converte inteiro para string\n",
    "x = 10\n",
    "s = str(x)\n",
    "print(type(s))\n",
    "\n",
    "# Converte float para inteiro\n",
    "a = 2.5\n",
    "b = int(a)\n",
    "print(b)\n",
    "\n",
    "# Converte inteiro para float\n",
    "c = 2\n",
    "d = float(c)\n",
    "print(d)"
   ]
  },
  {
   "cell_type": "markdown",
   "metadata": {},
   "source": [
    "## Condicionais e Controlo de Fluxo\n",
    "Os blocos de código em Python são delimitados pelo seu nível de indentação!\n",
    "\n",
    "Alguns exemplos:"
   ]
  },
  {
   "cell_type": "code",
   "execution_count": 9,
   "metadata": {
    "ExecuteTime": {
     "end_time": "2024-02-07T10:50:53.182623100Z",
     "start_time": "2024-02-07T10:50:53.155225800Z"
    }
   },
   "outputs": [
    {
     "name": "stdout",
     "output_type": "stream",
     "text": [
      "A condition é falsa.\n"
     ]
    }
   ],
   "source": [
    "condition = False\n",
    "\n",
    "if condition == True:\n",
    "    print(\"A condition é verdadeira.\")\n",
    "else:\n",
    "    print(\"A condition é falsa.\")"
   ]
  },
  {
   "cell_type": "code",
   "execution_count": 10,
   "metadata": {
    "ExecuteTime": {
     "end_time": "2024-02-07T10:50:59.242671200Z",
     "start_time": "2024-02-07T10:50:59.230825400Z"
    }
   },
   "outputs": [
    {
     "name": "stdout",
     "output_type": "stream",
     "text": [
      "As condições condition_1 e condition_2 são falsas.\n"
     ]
    }
   ],
   "source": [
    "condition_1 = False\n",
    "condition_2 = False\n",
    "\n",
    "if condition_1:\n",
    "  print(\"A condition_1 é verdadeira.\")\n",
    "elif condition_2:\n",
    "  print(\"A condition_2 é verdadeira.\")\n",
    "else:\n",
    "  print(\"As condições condition_1 e condition_2 são falsas.\")"
   ]
  },
  {
   "cell_type": "code",
   "execution_count": 11,
   "metadata": {
    "ExecuteTime": {
     "end_time": "2024-02-07T10:51:02.847843900Z",
     "start_time": "2024-02-07T10:51:02.831849700Z"
    }
   },
   "outputs": [
    {
     "name": "stdout",
     "output_type": "stream",
     "text": [
      "Números na lista: \n",
      "1 1 2 3 5 8 13 "
     ]
    }
   ],
   "source": [
    "# Percorrer uma lista de números\n",
    "print(\"Números na lista: \")\n",
    "for number in [1, 1, 2, 3, 5, 8, 13]:\n",
    "    print(number, end=\" \")"
   ]
  },
  {
   "cell_type": "markdown",
   "metadata": {},
   "source": [
    "## Listas\n",
    "Alguns exemplos:"
   ]
  },
  {
   "cell_type": "code",
   "execution_count": 12,
   "metadata": {
    "colab": {
     "base_uri": "https://localhost:8080/"
    },
    "id": "5BpFQAmKlk3c",
    "outputId": "51a7b454-9090-46db-e56b-a669bb994641",
    "ExecuteTime": {
     "end_time": "2024-02-07T10:51:08.484912500Z",
     "start_time": "2024-02-07T10:51:08.427523700Z"
    }
   },
   "outputs": [
    {
     "name": "stdout",
     "output_type": "stream",
     "text": [
      "['a', 'b', 3, 'c', 'f', 'e', 4]\n"
     ]
    }
   ],
   "source": [
    "list_1 = ['a', 'b', 3, 'c', 'f', 'e', 4] # A é uma list.  \n",
    "print(list_1) "
   ]
  },
  {
   "cell_type": "code",
   "execution_count": 13,
   "metadata": {
    "colab": {
     "base_uri": "https://localhost:8080/"
    },
    "id": "5LnAHp65lk3c",
    "outputId": "390a2fc7-df7f-46f1-fdee-a0a03b0e7945",
    "ExecuteTime": {
     "end_time": "2024-02-07T10:51:11.064625400Z",
     "start_time": "2024-02-07T10:51:11.049244500Z"
    }
   },
   "outputs": [
    {
     "name": "stdout",
     "output_type": "stream",
     "text": [
      "7\n"
     ]
    }
   ],
   "source": [
    "print(len(list_1)) # dimensão da list(quantidade de entradas na list)"
   ]
  },
  {
   "cell_type": "code",
   "execution_count": 14,
   "metadata": {
    "ExecuteTime": {
     "end_time": "2024-02-07T10:51:14.381007800Z",
     "start_time": "2024-02-07T10:51:14.366656900Z"
    }
   },
   "outputs": [
    {
     "data": {
      "text/plain": "'a'"
     },
     "execution_count": 14,
     "metadata": {},
     "output_type": "execute_result"
    }
   ],
   "source": [
    "list_1[0] # primeira posição na lista"
   ]
  },
  {
   "cell_type": "code",
   "execution_count": null,
   "metadata": {},
   "outputs": [],
   "source": [
    "list_1[len(list_1)] # E a última posição, qual será?"
   ]
  },
  {
   "cell_type": "markdown",
   "metadata": {},
   "source": [
    "> _**Nota:**_ \n",
    ">* A lista está sempre definida entre <b>$0$</b> e até <b>$n-1$</b> onde <b>$n = len(list)$</b>. <br>\n",
    "\n"
   ]
  },
  {
   "cell_type": "markdown",
   "metadata": {},
   "source": [
    "**Porém**, listas no Python podem ser indexadas com índices negativos, por exemplo: "
   ]
  },
  {
   "cell_type": "code",
   "execution_count": null,
   "metadata": {},
   "outputs": [],
   "source": [
    "list_1[-2] # indice do penúltimo elemento"
   ]
  },
  {
   "cell_type": "markdown",
   "metadata": {},
   "source": [
    "### Segmentação (*Slicing*)\n",
    "É possivel aceder à subporções da lista:"
   ]
  },
  {
   "cell_type": "code",
   "execution_count": null,
   "metadata": {
    "colab": {
     "base_uri": "https://localhost:8080/"
    },
    "id": "FSZvCdwblk3d",
    "outputId": "562b873a-9435-4958-e5a3-35eb12ecbc25"
   },
   "outputs": [],
   "source": [
    "print(f'Lista original: {list_1}')\n",
    "# slicing up:\n",
    "print(list_1[2:4]) # sublista de [list_1[2],list_1[3]] (não inclui list_1[4])\n",
    "print(list_1[2:])  # inicia em list_1[2] até ao último elemento\n",
    "print(list_1[:4])  # inicia no primeiro elemento (índice 0) até list_1[3]"
   ]
  },
  {
   "cell_type": "code",
   "execution_count": null,
   "metadata": {},
   "outputs": [],
   "source": [
    "list_1 = list_1[:]      # cópia (shallow) da lista\n",
    "list_1[2] = 'new'\n",
    "print(list_1)"
   ]
  },
  {
   "cell_type": "code",
   "execution_count": null,
   "metadata": {},
   "outputs": [],
   "source": [
    "list_3 = list(list_1[:])      # cópia (deep) da lista\n",
    "list_1[3] = 'new2'\n",
    "print(list_1)\n",
    "print(list_3)"
   ]
  },
  {
   "cell_type": "markdown",
   "metadata": {},
   "source": [
    "É possivel utilizar indices negativos aqui também:"
   ]
  },
  {
   "cell_type": "code",
   "execution_count": null,
   "metadata": {
    "colab": {
     "base_uri": "https://localhost:8080/"
    },
    "id": "FSZvCdwblk3d",
    "outputId": "562b873a-9435-4958-e5a3-35eb12ecbc25"
   },
   "outputs": [],
   "source": [
    "print(list_1[-4:-1]) # inicia em list_1[-4] e vai até list_1[-2] (não inclui list_1[-1])\n",
    "print(list_1[-2:])  # inicia em list_1[-2] até ao último elemento\n",
    "print(list_1[::-1])  # lista em ordem inversa"
   ]
  },
  {
   "cell_type": "code",
   "execution_count": null,
   "metadata": {
    "id": "AEcl_rEUlk3e",
    "outputId": "3b56512c-c374-4870-c819-82cb2a17493a"
   },
   "outputs": [],
   "source": [
    "list_1.append(7) # Insere no final da lista \n",
    "print(list_1)"
   ]
  },
  {
   "cell_type": "markdown",
   "metadata": {},
   "source": [
    "**Q:** O que acontece se executar a célula anterior mais que uma vez??"
   ]
  },
  {
   "cell_type": "code",
   "execution_count": null,
   "metadata": {
    "id": "HDsiLGYzlk3e",
    "outputId": "115bbd77-6ab1-4452-fff2-f2935d596bbe"
   },
   "outputs": [],
   "source": [
    "list_1 = list_1[:7] # E se o último indice for menor que (7-1 = 6)?\n",
    "print(list_1)"
   ]
  },
  {
   "cell_type": "code",
   "execution_count": null,
   "metadata": {
    "id": "WOWt4hetlk3f",
    "outputId": "b6e4ff5f-3b58-4c35-f134-9f28d38508d4"
   },
   "outputs": [],
   "source": [
    "for x in list_1:  # uma list é iterável\n",
    "    print(2*x)"
   ]
  },
  {
   "cell_type": "markdown",
   "metadata": {},
   "source": [
    "> _**Nota:**_ As operações de slicing também se aplicam para strings (tipo `str`)"
   ]
  },
  {
   "cell_type": "markdown",
   "metadata": {},
   "source": [
    "<font size=\"4\"> <div class=\"alert alert-success\" role=\"alert\">\n",
    "    Esta é uma boa altura para apresentar a documentação oficial para *Python* em \n",
    "    https://docs.python.org/3/contents.html\n",
    "    \n",
    "</div></font>\n",
    "\n",
    "Em particular, o link para as operações nativas com o tipo de dados *list* é https://docs.python.org/3/tutorial/datastructures.html"
   ]
  },
  {
   "cell_type": "markdown",
   "metadata": {},
   "source": [
    "### Função range"
   ]
  },
  {
   "cell_type": "code",
   "execution_count": null,
   "metadata": {
    "id": "aYSdBteDlk3g",
    "outputId": "8d3b3b2d-bfa3-47e0-ff07-30ab28f6a3d7"
   },
   "outputs": [],
   "source": [
    "T = range(5)  # A função range(X) devolve um modo de iterar (um iterável) usando inteiros a partir de zero\n",
    "for x in T:\n",
    "    print(x)"
   ]
  },
  {
   "cell_type": "code",
   "execution_count": null,
   "metadata": {
    "id": "6G3Zxl3zlk3g",
    "outputId": "93af1085-e3d7-423c-8b59-34645fb2897c",
    "scrolled": true
   },
   "outputs": [],
   "source": [
    "for i in range(len(list_1)):  # Podemos usar a função range para iterar sobre uma lista\n",
    "    print(list_1[i])"
   ]
  },
  {
   "cell_type": "code",
   "execution_count": null,
   "metadata": {
    "id": "7S7NcBJulk3h",
    "outputId": "f32a062f-ea79-432f-bcfe-07e657027c60"
   },
   "outputs": [],
   "source": [
    "list_2 = [] # INICIALIZAÇÃO para uma list vazia (empty list)\n",
    "len(list_2)"
   ]
  },
  {
   "cell_type": "code",
   "execution_count": null,
   "metadata": {},
   "outputs": [],
   "source": [
    "for x in list_1:\n",
    "    list_2.append(2*x)  # Insere no final da lista\n",
    "print(list_2)"
   ]
  },
  {
   "cell_type": "code",
   "execution_count": null,
   "metadata": {
    "id": "F-K9_DWGlk3h",
    "outputId": "7e6068a3-17a1-4a91-fecb-faa2db18a86e"
   },
   "outputs": [],
   "source": [
    "list_3 = [ 2*x for x in list_1 ] # List comprehension\n",
    "# Equivalente ao for anterior mas condensado:  usando apenas uma linha\n",
    "print(list_3)\n"
   ]
  },
  {
   "cell_type": "markdown",
   "metadata": {},
   "source": [
    "## Funções e Procedimentos\n",
    "Funções em Python são definidas por meio da seguinte sintaxe:\n",
    "```python\n",
    "def nomedafuncao(arg1, arg2, ...):\n",
    "    corpodafuncao\n",
    "```"
   ]
  },
  {
   "cell_type": "code",
   "execution_count": 21,
   "metadata": {
    "ExecuteTime": {
     "end_time": "2024-02-07T10:54:44.869639200Z",
     "start_time": "2024-02-07T10:54:44.817706300Z"
    }
   },
   "outputs": [
    {
     "data": {
      "text/plain": "100"
     },
     "execution_count": 21,
     "metadata": {},
     "output_type": "execute_result"
    }
   ],
   "source": [
    "# Exemplo (bem simples) de função em Python.\n",
    "def power_of_two(n): # Definição de uma função >>>> NOTE QUE: não é necessário declarar os tipos dos argumentos.\n",
    "    return n ** 2\n",
    "\n",
    "power_of_two(10) "
   ]
  },
  {
   "cell_type": "markdown",
   "metadata": {},
   "source": [
    "Funções podem devolver mais que um valor:"
   ]
  },
  {
   "cell_type": "code",
   "execution_count": null,
   "metadata": {},
   "outputs": [],
   "source": [
    "# Exemplo de função que retorna mais de um valor.\n",
    "def div_mod(x, y):\n",
    "    quotient  = x // y\n",
    "    remainder = x % y\n",
    "    return (quotient, remainder)\n",
    "    \n",
    "print(\"Quociente e resto: \", div_mod(9, 4))"
   ]
  },
  {
   "cell_type": "markdown",
   "metadata": {},
   "source": [
    "Na verdade já existe uma função deste tipo no Python:"
   ]
  },
  {
   "cell_type": "code",
   "execution_count": 15,
   "metadata": {
    "ExecuteTime": {
     "end_time": "2024-02-07T10:53:29.243586800Z",
     "start_time": "2024-02-07T10:53:29.218615800Z"
    }
   },
   "outputs": [
    {
     "name": "stdout",
     "output_type": "stream",
     "text": [
      "Quociente e resto:  (2, 1)\n"
     ]
    }
   ],
   "source": [
    "print(\"Quociente e resto: \", divmod(9, 4))"
   ]
  },
  {
   "cell_type": "markdown",
   "metadata": {},
   "source": [
    "Outro exemplo de função:"
   ]
  },
  {
   "cell_type": "code",
   "execution_count": 16,
   "metadata": {
    "id": "mlMQNnwflk3h",
    "outputId": "0bf8d230-e881-4ed4-cb73-8a3ca11f9f7d",
    "ExecuteTime": {
     "end_time": "2024-02-07T10:53:38.482626300Z",
     "start_time": "2024-02-07T10:53:38.457157900Z"
    }
   },
   "outputs": [
    {
     "name": "stdout",
     "output_type": "stream",
     "text": [
      "10\n",
      "[1, 2, 3, 1, 2, 3, 4, 5, 6, 4, 5, 6]\n",
      "[[1, 2, 3], [1, 2, 3], [4, 5, 6], [4, 5, 6]]\n",
      "hello hello worldworld\n"
     ]
    }
   ],
   "source": [
    "def f(x,y):  # NOTE QUE: não é necessário declarar os tipos dos argumentos.\n",
    "    return 2*x + 2*y\n",
    "\n",
    "print(f(2,3))  # operadores * e + para inteiros\n",
    "print(f([1,2,3],[4,5,6]))  # versões de operadores para lists\n",
    "print(f([[1,2,3]],[[4,5,6]]))  # versões de operadores para lists\n",
    "print(f(\"hello \", \"world\"))  # e ainda outra versão para strings\n"
   ]
  },
  {
   "cell_type": "markdown",
   "metadata": {},
   "source": [
    "**Q:** O que acontece se fizer f(2, \"aqui há gato\")?"
   ]
  },
  {
   "cell_type": "code",
   "execution_count": 17,
   "metadata": {
    "ExecuteTime": {
     "end_time": "2024-02-07T10:53:57.431192700Z",
     "start_time": "2024-02-07T10:53:57.391650600Z"
    }
   },
   "outputs": [
    {
     "ename": "TypeError",
     "evalue": "unsupported operand type(s) for +: 'int' and 'str'",
     "output_type": "error",
     "traceback": [
      "\u001B[1;31m---------------------------------------------------------------------------\u001B[0m",
      "\u001B[1;31mTypeError\u001B[0m                                 Traceback (most recent call last)",
      "Cell \u001B[1;32mIn[17], line 1\u001B[0m\n\u001B[1;32m----> 1\u001B[0m \u001B[43mf\u001B[49m\u001B[43m(\u001B[49m\u001B[38;5;241;43m2\u001B[39;49m\u001B[43m,\u001B[49m\u001B[43m \u001B[49m\u001B[38;5;124;43m\"\u001B[39;49m\u001B[38;5;124;43maqui há gato!\u001B[39;49m\u001B[38;5;124;43m\"\u001B[39;49m\u001B[43m)\u001B[49m\n",
      "Cell \u001B[1;32mIn[16], line 2\u001B[0m, in \u001B[0;36mf\u001B[1;34m(x, y)\u001B[0m\n\u001B[0;32m      1\u001B[0m \u001B[38;5;28;01mdef\u001B[39;00m \u001B[38;5;21mf\u001B[39m(x,y):  \u001B[38;5;66;03m# NOTE QUE: não é necessário declarar os tipos dos argumentos.\u001B[39;00m\n\u001B[1;32m----> 2\u001B[0m     \u001B[38;5;28;01mreturn\u001B[39;00m \u001B[38;5;241;43m2\u001B[39;49m\u001B[38;5;241;43m*\u001B[39;49m\u001B[43mx\u001B[49m\u001B[43m \u001B[49m\u001B[38;5;241;43m+\u001B[39;49m\u001B[43m \u001B[49m\u001B[38;5;241;43m2\u001B[39;49m\u001B[38;5;241;43m*\u001B[39;49m\u001B[43my\u001B[49m\n",
      "\u001B[1;31mTypeError\u001B[0m: unsupported operand type(s) for +: 'int' and 'str'"
     ]
    }
   ],
   "source": [
    "f(2, \"aqui há gato!\")"
   ]
  },
  {
   "cell_type": "markdown",
   "metadata": {},
   "source": [
    "### Funções de alto nível\n",
    "São funções que recebem outras funções como argumento.\n",
    "\n",
    "Um exemplo é a função `map` que aplica uma função a um conjunto de valores numa coleção. No exemplo abaixo, a função `map` é utilizada para aplicar outra função (`power_of_two`) a todos os elementos de uma lista."
   ]
  },
  {
   "cell_type": "code",
   "execution_count": 22,
   "metadata": {
    "ExecuteTime": {
     "end_time": "2024-02-07T10:54:50.249997400Z",
     "start_time": "2024-02-07T10:54:50.238730800Z"
    }
   },
   "outputs": [
    {
     "name": "stdout",
     "output_type": "stream",
     "text": [
      "[0, 1, 4, 9, 16]\n"
     ]
    }
   ],
   "source": [
    "result = list(map(power_of_two, range(5)))\n",
    "print(result)"
   ]
  },
  {
   "cell_type": "markdown",
   "metadata": {},
   "source": [
    "Abaixo, temos uma função equivalente:"
   ]
  },
  {
   "cell_type": "code",
   "execution_count": 23,
   "metadata": {
    "scrolled": true,
    "ExecuteTime": {
     "end_time": "2024-02-07T10:54:53.970169900Z",
     "start_time": "2024-02-07T10:54:53.961020700Z"
    }
   },
   "outputs": [
    {
     "name": "stdout",
     "output_type": "stream",
     "text": [
      "[0, 1, 4, 9, 16]\n"
     ]
    }
   ],
   "source": [
    "def my_map(function, collection):\n",
    "    result = []\n",
    "    for item in collection:\n",
    "        result.append(function(item))\n",
    "    return result\n",
    "\n",
    "result = my_map(power_of_two, range(5))\n",
    "print(result)"
   ]
  },
  {
   "cell_type": "markdown",
   "metadata": {},
   "source": [
    "### Função lambda\n",
    "Uma função lambda em Python é uma função anónima, ou seja, uma função que não tem nome. As funções lambda são definidas usando a palavra-chave `lambda`, seguida de um ou mais argumentos e uma expressão:\n",
    "```python\n",
    "lambda arg1, arg2, ... : expressão\n",
    "```\n",
    "\n",
    "\n",
    "\n",
    "As funções lambda podem ser utilizadas para definir funções pequenas e simples que só são utilizadas uma vez. Por exemplo:"
   ]
  },
  {
   "cell_type": "code",
   "execution_count": 24,
   "metadata": {
    "ExecuteTime": {
     "end_time": "2024-02-07T10:55:00.471708700Z",
     "start_time": "2024-02-07T10:55:00.460410300Z"
    }
   },
   "outputs": [
    {
     "name": "stdout",
     "output_type": "stream",
     "text": [
      "[0, 1, 4, 9, 16]\n"
     ]
    }
   ],
   "source": [
    "result = list(map(lambda x : x ** 2, range(5)))\n",
    "print(result)"
   ]
  },
  {
   "cell_type": "markdown",
   "metadata": {
    "id": "ixIYME9Alk3h"
   },
   "source": [
    "<font size=\"4\"> <div class=\"alert alert-success\" role=\"alert\">\n",
    "    Para mais opções, no link seguinte pode encontrar um tutorial acessível:\n",
    "    \n",
    "    https://www.programiz.com/python-programming\n",
    "</div></font>\n"
   ]
  },
  {
   "cell_type": "code",
   "execution_count": 40,
   "metadata": {
    "ExecuteTime": {
     "end_time": "2024-02-07T11:51:44.242346500Z",
     "start_time": "2024-02-07T11:51:44.107920200Z"
    }
   },
   "outputs": [
    {
     "data": {
      "text/plain": "<Figure size 1000x600 with 1 Axes>",
      "image/png": "[encoded data removed]"
     },
     "metadata": {},
     "output_type": "display_data"
    }
   ],
   "source": [
    "import matplotlib.pyplot as plt\n",
    "\n",
    "# Definindo as funções\n",
    "def y1(x):\n",
    "    return x**2 + 567*x + 1000\n",
    "\n",
    "def y2(x):\n",
    "    return x**2 - 564*x + 1000\n",
    "\n",
    "def y3(x):\n",
    "    return x**2\n",
    "\n",
    "# Gerando valores para x\n",
    "x_values = list(range(999000, 1000000))\n",
    "\n",
    "# Calculando os valores de y para cada função\n",
    "y1_values = [y1(x) for x in x_values]\n",
    "y2_values = [y2(x) for x in x_values]\n",
    "y3_values = [y3(x) for x in x_values]\n",
    "\n",
    "# Plotando as funções\n",
    "plt.figure(figsize=(10,6))\n",
    "plt.plot(x_values, y1_values, label='y1 = x^2 + 567x + 1000')\n",
    "plt.plot(x_values, y2_values, label='y2 = x^2 - 564x + 1000')\n",
    "plt.plot(x_values, y3_values, label='y3 = x^2')\n",
    "plt.legend()\n",
    "plt.show()\n"
   ]
  },
  {
   "cell_type": "code",
   "outputs": [
    {
     "name": "stdout",
     "output_type": "stream",
     "text": [
      "9\n",
      "9\n",
      "9\n"
     ]
    }
   ],
   "source": [
    "def multiplicacao_primaria(x,y):\n",
    "    return x * y \n",
    "\n",
    "def multiplicacao_recursiva(x, y):\n",
    "    # Caso base\n",
    "    if y == 0:\n",
    "        return 0\n",
    "\n",
    "    # Dividir\n",
    "    z = multiplicacao_recursiva(x, y // 2)\n",
    "\n",
    "    # Conquistar e combinar\n",
    "    if y % 2 == 0:\n",
    "        return 2 * z\n",
    "    else:\n",
    "        return x + 2 * z\n",
    "\n",
    "\n",
    "\n",
    "print (multiplicacao_recursiva(3,3))\n",
    "print (multiplicacao_primaria(3,3))"
   ],
   "metadata": {
    "collapsed": false,
    "ExecuteTime": {
     "end_time": "2024-02-07T12:11:09.770835600Z",
     "start_time": "2024-02-07T12:11:09.766736900Z"
    }
   },
   "execution_count": 47
  },
  {
   "cell_type": "code",
   "outputs": [],
   "source": [],
   "metadata": {
    "collapsed": false,
    "ExecuteTime": {
     "end_time": "2024-02-07T12:11:14.872006700Z",
     "start_time": "2024-02-07T12:11:14.866898500Z"
    }
   },
   "execution_count": 47
  },
  {
   "cell_type": "code",
   "outputs": [],
   "source": [],
   "metadata": {
    "collapsed": false
   }
  }
 ],
 "metadata": {
  "colab": {
   "name": "preLecture2.ipynb",
   "provenance": []
  },
  "kernelspec": {
   "display_name": "Python 3 (ipykernel)",
   "language": "python",
   "name": "python3"
  },
  "language_info": {
   "codemirror_mode": {
    "name": "ipython",
    "version": 3
   },
   "file_extension": ".py",
   "mimetype": "text/x-python",
   "name": "python",
   "nbconvert_exporter": "python",
   "pygments_lexer": "ipython3",
   "version": "3.11.5"
  }
 },
 "nbformat": 4,
 "nbformat_minor": 1
}

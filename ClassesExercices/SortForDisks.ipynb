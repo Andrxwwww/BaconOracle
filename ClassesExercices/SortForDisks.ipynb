{
 "cells": [
  {
   "cell_type": "code",
   "execution_count": 8,
   "id": "initial_id",
   "metadata": {
    "collapsed": true,
    "ExecuteTime": {
     "end_time": "2024-02-29T09:39:54.423069900Z",
     "start_time": "2024-02-29T09:39:54.418053Z"
    }
   },
   "outputs": [],
   "source": [
    "#bubblesort\n",
    "def bubble_sort(List):\n",
    "    for i in range(len(List)):\n",
    "        for j in range(len(List) - i - 1):\n",
    "            if List[j] > List[j + 1]:\n",
    "                List[j], List[j + 1] = List[j + 1],List[j]\n",
    "    return List"
   ]
  },
  {
   "cell_type": "code",
   "outputs": [],
   "source": [
    "#quicksort\n",
    "def quick_sort(List):\n",
    "    length = len(List)\n",
    "    if length <= 1 :\n",
    "        return List\n",
    "    \n",
    "    pivot = List.pop()\n",
    "    low , high = [],[]\n",
    "    for i in List : \n",
    "        if i > pivot : high.append(i)\n",
    "        else : low.append(i)\n",
    "    \n",
    "    return quick_sort(low) + [pivot] + quick_sort(high)"
   ],
   "metadata": {
    "collapsed": false,
    "ExecuteTime": {
     "end_time": "2024-02-29T09:39:56.441686Z",
     "start_time": "2024-02-29T09:39:56.438004800Z"
    }
   },
   "id": "a19811ff288fd706",
   "execution_count": 9
  },
  {
   "cell_type": "code",
   "outputs": [
    {
     "name": "stdout",
     "output_type": "stream",
     "text": [
      "bubblesorted list: ['A', 'A', 'A', 'A', 'V', 'V', 'V', 'V']\n",
      "quick sorted list: ['A', 'A', 'A', 'A', 'V', 'V', 'V', 'V']\n"
     ]
    }
   ],
   "source": [
    "disks = ['A','V','A','V','A','V','A','V',]\n",
    "\n",
    "print(\"bubblesorted list:\" , bubble_sort(disks))\n",
    "print (\"quick sorted list:\" , quick_sort(disks))"
   ],
   "metadata": {
    "collapsed": false,
    "ExecuteTime": {
     "end_time": "2024-02-29T09:39:57.043347300Z",
     "start_time": "2024-02-29T09:39:57.038254Z"
    }
   },
   "id": "8865936cf3d05f8f",
   "execution_count": 10
  },
  {
   "cell_type": "code",
   "outputs": [],
   "source": [],
   "metadata": {
    "collapsed": false
   },
   "id": "8c81a82ace309baf"
  }
 ],
 "metadata": {
  "kernelspec": {
   "display_name": "Python 3",
   "language": "python",
   "name": "python3"
  },
  "language_info": {
   "codemirror_mode": {
    "name": "ipython",
    "version": 2
   },
   "file_extension": ".py",
   "mimetype": "text/x-python",
   "name": "python",
   "nbconvert_exporter": "python",
   "pygments_lexer": "ipython2",
   "version": "2.7.6"
  }
 },
 "nbformat": 4,
 "nbformat_minor": 5
}
